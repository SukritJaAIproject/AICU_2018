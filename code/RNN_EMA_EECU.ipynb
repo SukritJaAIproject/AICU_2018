{
  "nbformat": 4,
  "nbformat_minor": 0,
  "metadata": {
    "colab": {
      "name": "RNN_EMA_EECU.ipynb",
      "version": "0.3.2",
      "provenance": [],
      "collapsed_sections": [],
      "toc_visible": true
    },
    "kernelspec": {
      "name": "python3",
      "display_name": "Python 3"
    }
  },
  "cells": [
    {
      "metadata": {
        "id": "sTquLYQzsaIs",
        "colab_type": "text"
      },
      "cell_type": "markdown",
      "source": [
        "#Real_time_Application_for_Solar_ee_cu_by_using_rnn\n"
      ]
    },
    {
      "metadata": {
        "id": "e_5gvfBRsl7u",
        "colab_type": "text"
      },
      "cell_type": "markdown",
      "source": [
        "# import  library"
      ]
    },
    {
      "metadata": {
        "id": "rQB66Se6sbDz",
        "colab_type": "code",
        "colab": {}
      },
      "cell_type": "code",
      "source": [
        "# import neccessary library\n",
        "import tensorflow as tf\n",
        "import numpy as np\n",
        "import pandas as pd\n",
        "import matplotlib.pyplot as plt\n",
        "import seaborn as sns\n",
        "\n",
        "from sklearn.preprocessing import MinMaxScaler\n",
        "%matplotlib inline"
      ],
      "execution_count": 0,
      "outputs": []
    },
    {
      "metadata": {
        "id": "t2LjjThusykT",
        "colab_type": "text"
      },
      "cell_type": "markdown",
      "source": [
        "# 1. Load_data_for_forecast"
      ]
    },
    {
      "metadata": {
        "id": "4P-tsYbg14fl",
        "colab_type": "text"
      },
      "cell_type": "markdown",
      "source": [
        "## 3. Prepare input of time series"
      ]
    },
    {
      "metadata": {
        "id": "huwREzkk1ugR",
        "colab_type": "code",
        "colab": {}
      },
      "cell_type": "code",
      "source": [
        "def get_batch(X_origin, steps, start_indices):\n",
        "    '''\n",
        "    This method will generate input and output of time-series for RNN, for example\n",
        "    input --> x(t-2) x(t-1) x(t)\n",
        "    target --> x(t-1) x(t) x(t+1)\n",
        "    '''\n",
        "    X = X_origin.copy()\n",
        "    \n",
        "    start = start_indices[0]\n",
        "    train_batch = np.array(X[start:start+steps+1, :]).reshape(steps+1, 20)\n",
        "    \n",
        "    train_return = train_batch[:-1,:-8].reshape(-1, steps, 12) #train_batch[:-1,:-5]\n",
        "    target_return = train_batch[1:,-8:].reshape(-1, steps, 8) # train_batch[1:,-5:]\n",
        "    \n",
        "    for k, start in enumerate(start_indices):\n",
        "        \n",
        "        if k != 0:\n",
        "            train_batch = np.array(X[start:start+steps+1, :]).reshape(steps+1, 20)[:-1,:-8].reshape(-1, steps, 12)\n",
        "            target_batch = np.array(X[start:start+steps+1, :]).reshape(steps+1, 20)[1:,-8:].reshape(-1, steps, 8)\n",
        "            train_return = np.concatenate((train_return, train_batch), axis = 0)\n",
        "            target_return = np.concatenate((target_return, target_batch), axis = 0)\n",
        "    \n",
        "    return train_return, target_return"
      ],
      "execution_count": 0,
      "outputs": []
    },
    {
      "metadata": {
        "id": "UDK9n8JBPe-V",
        "colab_type": "code",
        "colab": {}
      },
      "cell_type": "code",
      "source": [
        "data_train = pd.read_csv('EE_CU_Train_2017.csv')\n",
        "data_train.drop(('date_time'), axis=1, inplace=True)"
      ],
      "execution_count": 0,
      "outputs": []
    },
    {
      "metadata": {
        "id": "s58EfIrTPfEF",
        "colab_type": "code",
        "colab": {}
      },
      "cell_type": "code",
      "source": [
        "data_test = pd.read_csv('EE_CU_Test_2018.csv')\n",
        "data_test.drop(('date_time'), axis=1, inplace=True)"
      ],
      "execution_count": 0,
      "outputs": []
    },
    {
      "metadata": {
        "id": "KmSQIetg9u_R",
        "colab_type": "code",
        "outputId": "75242a9a-f5a1-4b12-dfea-eb6d73e21084",
        "colab": {
          "base_uri": "https://localhost:8080/",
          "height": 50
        }
      },
      "cell_type": "code",
      "source": [
        "# split train and test set\n",
        "#test_set_ratio = 0.05\n",
        "#full_len = solar_mat.shape[0]\n",
        "\n",
        "#len_train = round(full_len*(1-test_set_ratio))\n",
        "\n",
        "solar_train_origin = data_train.as_matrix().copy() #Solar_input -->ggg\n",
        "solar_test_origin = data_test.as_matrix().copy() #Solar_input -->ggg\n",
        "\n",
        "len_train = solar_train_origin.shape[0]\n",
        "len_test = solar_test_origin.shape[0]\n",
        "full_len = len_train+len_test\n",
        "\n",
        "print('data train shape', len(solar_train_origin))\n",
        "print('data test shape', len(solar_test_origin))"
      ],
      "execution_count": 6,
      "outputs": [
        {
          "output_type": "stream",
          "text": [
            "data train shape 17520\n",
            "data test shape 8688\n"
          ],
          "name": "stdout"
        }
      ]
    },
    {
      "metadata": {
        "id": "7WqzVrZcRtFB",
        "colab_type": "code",
        "colab": {
          "base_uri": "https://localhost:8080/",
          "height": 33
        },
        "outputId": "a48caf7c-9759-4ac5-9dca-3db831ed1d39"
      },
      "cell_type": "code",
      "source": [
        "type(solar_train_origin)"
      ],
      "execution_count": 7,
      "outputs": [
        {
          "output_type": "execute_result",
          "data": {
            "text/plain": [
              "numpy.ndarray"
            ]
          },
          "metadata": {
            "tags": []
          },
          "execution_count": 7
        }
      ]
    },
    {
      "metadata": {
        "id": "e-WP_lUVTRSa",
        "colab_type": "code",
        "outputId": "128f987f-517f-4aee-ac23-dccbae95a3b8",
        "colab": {
          "base_uri": "https://localhost:8080/",
          "height": 34
        }
      },
      "cell_type": "code",
      "source": [
        "full_len"
      ],
      "execution_count": 0,
      "outputs": [
        {
          "output_type": "execute_result",
          "data": {
            "text/plain": [
              "31294"
            ]
          },
          "metadata": {
            "tags": []
          },
          "execution_count": 130
        }
      ]
    },
    {
      "metadata": {
        "id": "T4KY99189xlh",
        "colab_type": "code",
        "colab": {}
      },
      "cell_type": "code",
      "source": [
        "solar_train_origin_data = pd.DataFrame(solar_train_origin)"
      ],
      "execution_count": 0,
      "outputs": []
    },
    {
      "metadata": {
        "id": "oEOYddCZ6at-",
        "colab_type": "code",
        "outputId": "7003728d-666f-42fc-d4ef-83f6f34b7478",
        "colab": {
          "base_uri": "https://localhost:8080/",
          "height": 97
        }
      },
      "cell_type": "code",
      "source": [
        "solar_train_origin_data.head(1)"
      ],
      "execution_count": 0,
      "outputs": [
        {
          "output_type": "execute_result",
          "data": {
            "text/html": [
              "<div>\n",
              "<style scoped>\n",
              "    .dataframe tbody tr th:only-of-type {\n",
              "        vertical-align: middle;\n",
              "    }\n",
              "\n",
              "    .dataframe tbody tr th {\n",
              "        vertical-align: top;\n",
              "    }\n",
              "\n",
              "    .dataframe thead th {\n",
              "        text-align: right;\n",
              "    }\n",
              "</style>\n",
              "<table border=\"1\" class=\"dataframe\">\n",
              "  <thead>\n",
              "    <tr style=\"text-align: right;\">\n",
              "      <th></th>\n",
              "      <th>0</th>\n",
              "      <th>1</th>\n",
              "      <th>2</th>\n",
              "      <th>3</th>\n",
              "      <th>4</th>\n",
              "      <th>5</th>\n",
              "      <th>6</th>\n",
              "      <th>7</th>\n",
              "      <th>8</th>\n",
              "      <th>9</th>\n",
              "      <th>10</th>\n",
              "      <th>11</th>\n",
              "      <th>12</th>\n",
              "      <th>13</th>\n",
              "      <th>14</th>\n",
              "      <th>15</th>\n",
              "      <th>16</th>\n",
              "      <th>17</th>\n",
              "      <th>18</th>\n",
              "      <th>19</th>\n",
              "    </tr>\n",
              "  </thead>\n",
              "  <tbody>\n",
              "    <tr>\n",
              "      <th>0</th>\n",
              "      <td>0.195985</td>\n",
              "      <td>0.196503</td>\n",
              "      <td>0.19591</td>\n",
              "      <td>0.196168</td>\n",
              "      <td>0.197086</td>\n",
              "      <td>0.195375</td>\n",
              "      <td>0.195824</td>\n",
              "      <td>0.196091</td>\n",
              "      <td>0.196212</td>\n",
              "      <td>1.0654</td>\n",
              "      <td>25.138333</td>\n",
              "      <td>0.0</td>\n",
              "      <td>0.0</td>\n",
              "      <td>0.0</td>\n",
              "      <td>0.0</td>\n",
              "      <td>0.0</td>\n",
              "      <td>0.0</td>\n",
              "      <td>0.0</td>\n",
              "      <td>0.0</td>\n",
              "      <td>0.0</td>\n",
              "    </tr>\n",
              "  </tbody>\n",
              "</table>\n",
              "</div>"
            ],
            "text/plain": [
              "         0         1        2         3         4         5         6   \\\n",
              "0  0.195985  0.196503  0.19591  0.196168  0.197086  0.195375  0.195824   \n",
              "\n",
              "         7         8       9          10   11   12   13   14   15   16   17  \\\n",
              "0  0.196091  0.196212  1.0654  25.138333  0.0  0.0  0.0  0.0  0.0  0.0  0.0   \n",
              "\n",
              "    18   19  \n",
              "0  0.0  0.0  "
            ]
          },
          "metadata": {
            "tags": []
          },
          "execution_count": 132
        }
      ]
    },
    {
      "metadata": {
        "id": "de0SjRTC-pMj",
        "colab_type": "code",
        "colab": {}
      },
      "cell_type": "code",
      "source": [
        "solar_test_origin_data = pd.DataFrame(solar_test_origin)"
      ],
      "execution_count": 0,
      "outputs": []
    },
    {
      "metadata": {
        "id": "mAfeVwKr-r1l",
        "colab_type": "code",
        "outputId": "55c7ded0-3bd0-4ffc-916d-fe97edbfa9c4",
        "colab": {
          "base_uri": "https://localhost:8080/",
          "height": 34
        }
      },
      "cell_type": "code",
      "source": [
        "solar_train_origin_data.shape"
      ],
      "execution_count": 0,
      "outputs": [
        {
          "output_type": "execute_result",
          "data": {
            "text/plain": [
              "(21906, 20)"
            ]
          },
          "metadata": {
            "tags": []
          },
          "execution_count": 134
        }
      ]
    },
    {
      "metadata": {
        "id": "JwE-Luhn-yNt",
        "colab_type": "code",
        "outputId": "fe110ca5-d411-49f9-8e19-2dc4b1f30275",
        "colab": {
          "base_uri": "https://localhost:8080/",
          "height": 34
        }
      },
      "cell_type": "code",
      "source": [
        "solar_test_origin_data.shape"
      ],
      "execution_count": 0,
      "outputs": [
        {
          "output_type": "execute_result",
          "data": {
            "text/plain": [
              "(9388, 20)"
            ]
          },
          "metadata": {
            "tags": []
          },
          "execution_count": 135
        }
      ]
    },
    {
      "metadata": {
        "id": "sgG3HZ41-1h7",
        "colab_type": "code",
        "outputId": "c1443f54-3a3e-441f-81eb-f0c7c095f659",
        "colab": {
          "base_uri": "https://localhost:8080/",
          "height": 50
        }
      },
      "cell_type": "code",
      "source": [
        "print(full_len)\n",
        "print(len_train)"
      ],
      "execution_count": 0,
      "outputs": [
        {
          "output_type": "stream",
          "text": [
            "31294\n",
            "21906\n"
          ],
          "name": "stdout"
        }
      ]
    },
    {
      "metadata": {
        "id": "5LBjVD52-_lU",
        "colab_type": "code",
        "outputId": "0531dd5d-62c1-4f74-8528-e0f495fc6584",
        "colab": {
          "base_uri": "https://localhost:8080/",
          "height": 33
        }
      },
      "cell_type": "code",
      "source": [
        "# normalize input\n",
        "from sklearn.preprocessing import MinMaxScaler\n",
        "\n",
        "scaler = MinMaxScaler()\n",
        "solar_train_origin_scale = scaler.fit_transform(solar_train_origin)\n",
        "solar_test_origin_scale = scaler.transform(solar_test_origin)\n",
        "\n",
        "scaler.data_min_.shape\n"
      ],
      "execution_count": 8,
      "outputs": [
        {
          "output_type": "execute_result",
          "data": {
            "text/plain": [
              "(20,)"
            ]
          },
          "metadata": {
            "tags": []
          },
          "execution_count": 8
        }
      ]
    },
    {
      "metadata": {
        "id": "MVulvOpT_BGx",
        "colab_type": "code",
        "colab": {}
      },
      "cell_type": "code",
      "source": [
        "def inverse_transform(input_, scaler):\n",
        "    min_data = scaler.data_min_[12]   #index of power in ggg\n",
        "    max_data = scaler.data_max_[12]\n",
        "    \n",
        "    return input_*(max_data - min_data) + min_data\n",
        "    "
      ],
      "execution_count": 0,
      "outputs": []
    },
    {
      "metadata": {
        "id": "5K0t3jzk_0M2",
        "colab_type": "code",
        "colab": {}
      },
      "cell_type": "code",
      "source": [
        "output_ = inverse_transform(solar_test_origin_scale[:,-8:], scaler) #4or5 is ok"
      ],
      "execution_count": 0,
      "outputs": []
    },
    {
      "metadata": {
        "id": "_sTWIJbMAf32",
        "colab_type": "code",
        "outputId": "6bc5ab6a-a59f-47a1-aed5-21c35ac2aaae",
        "colab": {
          "base_uri": "https://localhost:8080/",
          "height": 33
        }
      },
      "cell_type": "code",
      "source": [
        "output_.shape"
      ],
      "execution_count": 11,
      "outputs": [
        {
          "output_type": "execute_result",
          "data": {
            "text/plain": [
              "(8688, 8)"
            ]
          },
          "metadata": {
            "tags": []
          },
          "execution_count": 11
        }
      ]
    },
    {
      "metadata": {
        "id": "pREhRNSSA8LI",
        "colab_type": "code",
        "outputId": "f09daf44-6509-4c92-9ce5-03451310b4b1",
        "colab": {
          "base_uri": "https://localhost:8080/",
          "height": 33
        }
      },
      "cell_type": "code",
      "source": [
        "np.sum(output_ - solar_test_origin[:,-8:])"
      ],
      "execution_count": 12,
      "outputs": [
        {
          "output_type": "execute_result",
          "data": {
            "text/plain": [
              "4.5799895993792195e-12"
            ]
          },
          "metadata": {
            "tags": []
          },
          "execution_count": 12
        }
      ]
    },
    {
      "metadata": {
        "id": "WVOeQtV2BRCX",
        "colab_type": "text"
      },
      "cell_type": "markdown",
      "source": [
        "# 4 Model Selection"
      ]
    },
    {
      "metadata": {
        "id": "_RP5AaqKBAhv",
        "colab_type": "code",
        "colab": {}
      },
      "cell_type": "code",
      "source": [
        "num_inputs = 12\n",
        "num_outputs = 8\n",
        "\n",
        "num_time_steps = 12\n",
        "forecast_steps = 1\n",
        "\n",
        "## layers of RNN \n",
        "num_layers = 2      \n",
        "## dropout regularization\n",
        "keepprob = 0.8         \n",
        "\n",
        "learning_rate = 0.005\n",
        "num_neurons = 256\n",
        "batch_size = 2**5\n",
        "\n",
        "gpu_options = tf.GPUOptions(per_process_gpu_memory_fraction = 0.9)\n"
      ],
      "execution_count": 0,
      "outputs": []
    },
    {
      "metadata": {
        "id": "51rvJdLczYQv",
        "colab_type": "code",
        "colab": {}
      },
      "cell_type": "code",
      "source": [
        "import tensorflow as tf\n",
        "\n",
        "# RNN\n",
        "tf.reset_default_graph()\n",
        "\n",
        "X = tf.placeholder(tf.float32, [None, num_time_steps, num_inputs], name = 'X')\n",
        "y = tf.placeholder(tf.float32, [None, num_time_steps, num_outputs], name = 'Y')\n",
        "tf_keepprob = tf.placeholder(tf.float32, name='tf_keepprob')\n",
        "\n",
        "#######################################################################################\n",
        "## GRUCell regularization\n",
        "save_name = './GG6_GRU_model'\n",
        "cells = tf.contrib.rnn.OutputProjectionWrapper(\n",
        "    tf.contrib.rnn.MultiRNNCell(\n",
        "        [tf.contrib.rnn.DropoutWrapper(\n",
        "            tf.contrib.rnn.GRUCell(num_neurons, activation = tf.nn.relu,\n",
        "                                   kernel_initializer = tf.contrib.layers.xavier_initializer()),\n",
        "            output_keep_prob=tf_keepprob)\n",
        "         for i in range(num_layers)]), output_size = num_outputs)\n",
        "\n",
        "#######################################################################################\n",
        "\n",
        "outputs, states = tf.nn.dynamic_rnn(cells, X, dtype = tf.float32)\n",
        "\n",
        "loss = tf.reduce_mean(tf.square(outputs - y))\n",
        "optimizer = tf.train.AdamOptimizer(learning_rate = learning_rate)\n",
        "\n",
        "train = optimizer.minimize(loss)\n",
        "init = tf.global_variables_initializer()\n",
        "\n",
        "saver = tf.train.Saver()"
      ],
      "execution_count": 0,
      "outputs": []
    },
    {
      "metadata": {
        "id": "FdPOImN3UdJ8",
        "colab_type": "code",
        "outputId": "d96d87fd-edbe-4778-dfce-4a202b83f12c",
        "colab": {
          "base_uri": "https://localhost:8080/",
          "height": 34
        }
      },
      "cell_type": "code",
      "source": [
        "outputs"
      ],
      "execution_count": 0,
      "outputs": [
        {
          "output_type": "execute_result",
          "data": {
            "text/plain": [
              "<tf.Tensor 'rnn/transpose_1:0' shape=(?, 12, 8) dtype=float32>"
            ]
          },
          "metadata": {
            "tags": []
          },
          "execution_count": 144
        }
      ]
    },
    {
      "metadata": {
        "id": "nu30LzVLUeOe",
        "colab_type": "code",
        "outputId": "af4e05ce-0a4b-40bc-feda-86b77cf8a242",
        "colab": {
          "base_uri": "https://localhost:8080/",
          "height": 50
        }
      },
      "cell_type": "code",
      "source": [
        "## Train RNN model\n",
        "\n",
        "num_epochs = 2\n",
        "\n",
        "with tf.Session(config = tf.ConfigProto(gpu_options = gpu_options)) as sess:\n",
        "    \n",
        "    sess.run(init)\n",
        "    \n",
        "    count = 0\n",
        "    for i in range(num_epochs):\n",
        "        \n",
        "        solar_train = solar_train_origin_scale.copy()\n",
        "        \n",
        "        rand_start = np.random.permutation(len_train-num_time_steps)\n",
        "        avg_mse = 0\n",
        "        \n",
        "        for k in range(0, len_train-num_time_steps, batch_size):\n",
        "            \n",
        "            count = count + 1\n",
        "            \n",
        "            start = rand_start[k:k+batch_size]\n",
        "            X_batch, y_batch = get_batch(solar_train_origin_scale, num_time_steps, start)\n",
        "            sess.run(train, feed_dict={X:X_batch, y:y_batch, tf_keepprob:keepprob}) \n",
        "            y_pred = sess.run(outputs, feed_dict={X:X_batch, tf_keepprob:keepprob})\n",
        "            avg_mse += loss.eval(feed_dict={X:X_batch, y:y_batch, tf_keepprob:keepprob})\n",
        "        \n",
        "        avg_mse /= len(rand_start)\n",
        "        \n",
        "        if i%1 == 0:\n",
        "            print('epoch: {:3d}\\tMSE = {:.6f}'.format(i, avg_mse))\n",
        "\n",
        "    # Save Model for Later\n",
        "    saver.save(sess, save_name)"
      ],
      "execution_count": 17,
      "outputs": [
        {
          "output_type": "stream",
          "text": [
            "epoch:   0\tMSE = 0.000158\n",
            "epoch:   1\tMSE = 0.000095\n"
          ],
          "name": "stdout"
        }
      ]
    },
    {
      "metadata": {
        "id": "T9OJZYubPMop",
        "colab_type": "text"
      },
      "cell_type": "markdown",
      "source": [
        "#forcast 1 step ahead evaluation"
      ]
    },
    {
      "metadata": {
        "id": "eUAUTP1fywaS",
        "colab_type": "code",
        "colab": {}
      },
      "cell_type": "code",
      "source": [
        "solar_train = solar_test_origin_scale.copy()"
      ],
      "execution_count": 0,
      "outputs": []
    },
    {
      "metadata": {
        "id": "VI35v_Z7PFcw",
        "colab_type": "code",
        "outputId": "bf45d3e5-97e0-46a8-d230-22b3c6272562",
        "colab": {
          "base_uri": "https://localhost:8080/",
          "height": 50
        }
      },
      "cell_type": "code",
      "source": [
        "## Train Forecast steps evaluation\n",
        "\n",
        "with tf.Session() as sess:\n",
        "    \n",
        "    saver.restore(sess, save_name)\n",
        "    \n",
        "    train_seed = solar_train_origin_scale[:num_time_steps,:].copy()\n",
        "    y_train_prediction = []\n",
        "    \n",
        "    avg_mse = 0\n",
        "    count = 0\n",
        "\n",
        "    for k in range(num_time_steps, solar_train.shape[0]-1):\n",
        "\n",
        "        last_train = np.array(train_seed[-num_time_steps:,:-8]).reshape(-1, num_time_steps, 12).copy()\n",
        "        y_pred = sess.run(outputs, feed_dict={X:last_train, tf_keepprob:1})\n",
        "            \n",
        "        train_seed = solar_train_origin_scale[:k+1, :].copy()\n",
        "            \n",
        "        y_train_prediction.append(y_pred[0, -1, :])\n",
        "        \n",
        "    print('Complete')"
      ],
      "execution_count": 23,
      "outputs": [
        {
          "output_type": "stream",
          "text": [
            "INFO:tensorflow:Restoring parameters from ./GG6_GRU_model\n",
            "Complete\n"
          ],
          "name": "stdout"
        }
      ]
    },
    {
      "metadata": {
        "id": "29a0Au_Ugoap",
        "colab_type": "code",
        "outputId": "f0fc6724-3a7f-4a8d-8543-4c6da4391dbc",
        "colab": {
          "base_uri": "https://localhost:8080/",
          "height": 35
        }
      },
      "cell_type": "code",
      "source": [
        "type(np.array(y_train_prediction))"
      ],
      "execution_count": 0,
      "outputs": [
        {
          "output_type": "execute_result",
          "data": {
            "text/plain": [
              "numpy.ndarray"
            ]
          },
          "metadata": {
            "tags": []
          },
          "execution_count": 27
        }
      ]
    },
    {
      "metadata": {
        "id": "-uvslN2aPOUu",
        "colab_type": "code",
        "outputId": "4452d3b6-05aa-4646-a4e4-8d7facfeda7f",
        "colab": {
          "base_uri": "https://localhost:8080/",
          "height": 33
        }
      },
      "cell_type": "code",
      "source": [
        "# evaluate on train set\n",
        "y_train_rescale = inverse_transform(np.array(y_train_prediction) , scaler)\n",
        "solar_train_rescale = inverse_transform(solar_test_origin_scale[:,-8:] , scaler)\n",
        "\n",
        "rmse = np.sqrt(np.mean(np.square(y_train_rescale - solar_train_rescale[num_time_steps+1:])))\n",
        "#rmse = (rmse/500)*100\n",
        "print('RMSE = {:.6f}'.format(rmse))"
      ],
      "execution_count": 25,
      "outputs": [
        {
          "output_type": "stream",
          "text": [
            "RMSE = 0.912168\n"
          ],
          "name": "stdout"
        }
      ]
    },
    {
      "metadata": {
        "id": "s-0vchgiVgvs",
        "colab_type": "code",
        "colab": {}
      },
      "cell_type": "code",
      "source": [
        "y_train_rescale_df = pd.DataFrame(y_train_rescale)\n",
        "solar_train_rescale_df = pd.DataFrame(solar_train_rescale[num_time_steps+1:])"
      ],
      "execution_count": 0,
      "outputs": []
    },
    {
      "metadata": {
        "id": "v7M4PUW_q93l",
        "colab_type": "code",
        "colab": {}
      },
      "cell_type": "code",
      "source": [
        "from google.colab import files\n",
        "\n",
        "y_train_rescale_df.to_csv('y_train_rescale_df.csv')\n",
        "files.download('y_train_rescale_df.csv')"
      ],
      "execution_count": 0,
      "outputs": []
    },
    {
      "metadata": {
        "id": "e02plSIfq957",
        "colab_type": "code",
        "colab": {}
      },
      "cell_type": "code",
      "source": [
        "from google.colab import files\n",
        "\n",
        "solar_train_rescale_df.to_csv('solar_train_rescale_df.csv')\n",
        "files.download('solar_train_rescale_df.csv')"
      ],
      "execution_count": 0,
      "outputs": []
    },
    {
      "metadata": {
        "id": "uA55FveEq98V",
        "colab_type": "code",
        "outputId": "60b94bd9-ad74-4499-b270-7faa33957dad",
        "colab": {
          "base_uri": "https://localhost:8080/",
          "height": 248
        }
      },
      "cell_type": "code",
      "source": [
        "y_train_rescale"
      ],
      "execution_count": 0,
      "outputs": [
        {
          "output_type": "execute_result",
          "data": {
            "text/plain": [
              "array([[5.7870317, 1.5754732, 2.5629578, ..., 5.8784556, 6.4904256,\n",
              "        7.665682 ],\n",
              "       [5.8254538, 1.6089488, 2.5633104, ..., 5.879209 , 6.499544 ,\n",
              "        7.677067 ],\n",
              "       [5.8435674, 1.616888 , 2.547247 , ..., 5.8656006, 6.488329 ,\n",
              "        7.6660943],\n",
              "       ...,\n",
              "       [4.3143516, 0.6303997, 2.4643323, ..., 5.641222 , 5.9803896,\n",
              "        7.03434  ],\n",
              "       [4.726379 , 0.9115323, 2.6166399, ..., 5.8245173, 6.2387953,\n",
              "        7.32853  ],\n",
              "       [4.8996577, 1.0117627, 2.6554956, ..., 5.883797 , 6.325639 ,\n",
              "        7.4309416]], dtype=float32)"
            ]
          },
          "metadata": {
            "tags": []
          },
          "execution_count": 154
        }
      ]
    },
    {
      "metadata": {
        "id": "sqfqu0yOq9_B",
        "colab_type": "code",
        "colab": {}
      },
      "cell_type": "code",
      "source": [
        ""
      ],
      "execution_count": 0,
      "outputs": []
    },
    {
      "metadata": {
        "id": "pdwzUcZEq-Bb",
        "colab_type": "code",
        "colab": {}
      },
      "cell_type": "code",
      "source": [
        ""
      ],
      "execution_count": 0,
      "outputs": []
    },
    {
      "metadata": {
        "id": "jLDITDzdVg4r",
        "colab_type": "code",
        "colab": {}
      },
      "cell_type": "code",
      "source": [
        "solar_test = solar_test_origin_scale.copy()"
      ],
      "execution_count": 0,
      "outputs": []
    },
    {
      "metadata": {
        "id": "jdtJsuJzVdzb",
        "colab_type": "code",
        "outputId": "1cfee6df-fbf3-40db-8db1-81b1fb6b9c92",
        "colab": {
          "base_uri": "https://localhost:8080/",
          "height": 50
        }
      },
      "cell_type": "code",
      "source": [
        "## Train Forecast steps evaluation\n",
        "\n",
        "with tf.Session() as sess:\n",
        "    \n",
        "    saver.restore(sess, save_name)\n",
        "    \n",
        "    test_seed = solar_test_origin_scale[:num_time_steps,:].copy()\n",
        "    y_test_prediction = []\n",
        "    \n",
        "    avg_mse = 0\n",
        "    count = 0\n",
        "\n",
        "    for k in range(num_time_steps, solar_test.shape[0]-1):\n",
        "\n",
        "        last_test = np.array(test_seed[-num_time_steps:,:-8]).reshape(-1, num_time_steps, 12).copy()\n",
        "        y_pred = sess.run(outputs, feed_dict={X:last_test, tf_keepprob:1})\n",
        "            \n",
        "        test_seed = solar_test_origin_scale[:k+1, :].copy()\n",
        "            \n",
        "        y_test_prediction.append(y_pred[0, -1, :])\n",
        "        \n",
        "    print('Complete')"
      ],
      "execution_count": 0,
      "outputs": [
        {
          "output_type": "stream",
          "text": [
            "INFO:tensorflow:Restoring parameters from ./GG6_GRU_model\n",
            "Complete\n"
          ],
          "name": "stdout"
        }
      ]
    },
    {
      "metadata": {
        "id": "sQA0dZ7SVd2C",
        "colab_type": "code",
        "outputId": "090118ca-dfa3-4a5f-9b90-01b4b187fcec",
        "colab": {
          "base_uri": "https://localhost:8080/",
          "height": 34
        }
      },
      "cell_type": "code",
      "source": [
        "# evaluate on train set\n",
        "y_test_rescale = inverse_transform(np.array(y_test_prediction) , scaler)\n",
        "solar_test_rescale = inverse_transform(solar_test_origin_scale[:,-8:] , scaler)\n",
        "\n",
        "rmse = np.sqrt(np.mean(np.square(y_test_rescale - solar_test_rescale[num_time_steps+1:])))\n",
        "print('RMSE = {:.6f}'.format(rmse))"
      ],
      "execution_count": 0,
      "outputs": [
        {
          "output_type": "stream",
          "text": [
            "RMSE = 37.427675\n"
          ],
          "name": "stdout"
        }
      ]
    },
    {
      "metadata": {
        "id": "s3X5w2lFY8pk",
        "colab_type": "code",
        "colab": {}
      },
      "cell_type": "code",
      "source": [
        "y_test_rescale_df = pd.DataFrame(y_test_rescale)\n",
        "solar_test_rescale_df = pd.DataFrame(solar_test_rescale[num_time_steps+1:])"
      ],
      "execution_count": 0,
      "outputs": []
    },
    {
      "metadata": {
        "id": "-MnNtrsuZY_I",
        "colab_type": "code",
        "outputId": "41080278-e12c-4d53-92d5-922e504fd5cf",
        "colab": {
          "base_uri": "https://localhost:8080/",
          "height": 106
        }
      },
      "cell_type": "code",
      "source": [
        "y_test_rescale_df.head(2)"
      ],
      "execution_count": 0,
      "outputs": [
        {
          "output_type": "execute_result",
          "data": {
            "text/html": [
              "<div>\n",
              "<style scoped>\n",
              "    .dataframe tbody tr th:only-of-type {\n",
              "        vertical-align: middle;\n",
              "    }\n",
              "\n",
              "    .dataframe tbody tr th {\n",
              "        vertical-align: top;\n",
              "    }\n",
              "\n",
              "    .dataframe thead th {\n",
              "        text-align: right;\n",
              "    }\n",
              "</style>\n",
              "<table border=\"1\" class=\"dataframe\">\n",
              "  <thead>\n",
              "    <tr style=\"text-align: right;\">\n",
              "      <th></th>\n",
              "      <th>0</th>\n",
              "      <th>1</th>\n",
              "      <th>2</th>\n",
              "      <th>3</th>\n",
              "      <th>4</th>\n",
              "      <th>5</th>\n",
              "      <th>6</th>\n",
              "      <th>7</th>\n",
              "    </tr>\n",
              "  </thead>\n",
              "  <tbody>\n",
              "    <tr>\n",
              "      <th>0</th>\n",
              "      <td>54.437458</td>\n",
              "      <td>36.525585</td>\n",
              "      <td>20.742157</td>\n",
              "      <td>8.829308</td>\n",
              "      <td>2.967876</td>\n",
              "      <td>1.862787</td>\n",
              "      <td>2.583335</td>\n",
              "      <td>3.070341</td>\n",
              "    </tr>\n",
              "    <tr>\n",
              "      <th>1</th>\n",
              "      <td>35.530033</td>\n",
              "      <td>19.981693</td>\n",
              "      <td>8.742180</td>\n",
              "      <td>2.319249</td>\n",
              "      <td>0.556192</td>\n",
              "      <td>1.204012</td>\n",
              "      <td>2.066286</td>\n",
              "      <td>2.398671</td>\n",
              "    </tr>\n",
              "  </tbody>\n",
              "</table>\n",
              "</div>"
            ],
            "text/plain": [
              "           0          1          2         3         4         5         6  \\\n",
              "0  54.437458  36.525585  20.742157  8.829308  2.967876  1.862787  2.583335   \n",
              "1  35.530033  19.981693   8.742180  2.319249  0.556192  1.204012  2.066286   \n",
              "\n",
              "          7  \n",
              "0  3.070341  \n",
              "1  2.398671  "
            ]
          },
          "metadata": {
            "tags": []
          },
          "execution_count": 150
        }
      ]
    },
    {
      "metadata": {
        "id": "DPBvqf0YZbF_",
        "colab_type": "code",
        "outputId": "5a793c28-aef4-43fb-c783-8e7f34387cfc",
        "colab": {
          "base_uri": "https://localhost:8080/",
          "height": 106
        }
      },
      "cell_type": "code",
      "source": [
        "solar_test_rescale_df.head(2)"
      ],
      "execution_count": 0,
      "outputs": [
        {
          "output_type": "execute_result",
          "data": {
            "text/html": [
              "<div>\n",
              "<style scoped>\n",
              "    .dataframe tbody tr th:only-of-type {\n",
              "        vertical-align: middle;\n",
              "    }\n",
              "\n",
              "    .dataframe tbody tr th {\n",
              "        vertical-align: top;\n",
              "    }\n",
              "\n",
              "    .dataframe thead th {\n",
              "        text-align: right;\n",
              "    }\n",
              "</style>\n",
              "<table border=\"1\" class=\"dataframe\">\n",
              "  <thead>\n",
              "    <tr style=\"text-align: right;\">\n",
              "      <th></th>\n",
              "      <th>0</th>\n",
              "      <th>1</th>\n",
              "      <th>2</th>\n",
              "      <th>3</th>\n",
              "      <th>4</th>\n",
              "      <th>5</th>\n",
              "      <th>6</th>\n",
              "      <th>7</th>\n",
              "    </tr>\n",
              "  </thead>\n",
              "  <tbody>\n",
              "    <tr>\n",
              "      <th>0</th>\n",
              "      <td>47.541667</td>\n",
              "      <td>20.1778</td>\n",
              "      <td>7.8672</td>\n",
              "      <td>0.02</td>\n",
              "      <td>0.0</td>\n",
              "      <td>0.0</td>\n",
              "      <td>0.0</td>\n",
              "      <td>0.0</td>\n",
              "    </tr>\n",
              "    <tr>\n",
              "      <th>1</th>\n",
              "      <td>20.177800</td>\n",
              "      <td>7.8672</td>\n",
              "      <td>0.0200</td>\n",
              "      <td>0.00</td>\n",
              "      <td>0.0</td>\n",
              "      <td>0.0</td>\n",
              "      <td>0.0</td>\n",
              "      <td>0.0</td>\n",
              "    </tr>\n",
              "  </tbody>\n",
              "</table>\n",
              "</div>"
            ],
            "text/plain": [
              "           0        1       2     3    4    5    6    7\n",
              "0  47.541667  20.1778  7.8672  0.02  0.0  0.0  0.0  0.0\n",
              "1  20.177800   7.8672  0.0200  0.00  0.0  0.0  0.0  0.0"
            ]
          },
          "metadata": {
            "tags": []
          },
          "execution_count": 151
        }
      ]
    },
    {
      "metadata": {
        "id": "0vXjjz7sYFtk",
        "colab_type": "code",
        "colab": {}
      },
      "cell_type": "code",
      "source": [
        "from google.colab import files\n",
        "\n",
        "y_test_rescale_df.to_csv('y_test_rescale_df.csv')\n",
        "files.download('y_test_rescale_df.csv')"
      ],
      "execution_count": 0,
      "outputs": []
    },
    {
      "metadata": {
        "id": "eyOizL2MYSSI",
        "colab_type": "code",
        "colab": {}
      },
      "cell_type": "code",
      "source": [
        "from google.colab import files\n",
        "\n",
        "solar_test_rescale_df.to_csv('solar_test_rescale_df.csv')\n",
        "files.download('solar_test_rescale_df.csv')"
      ],
      "execution_count": 0,
      "outputs": []
    },
    {
      "metadata": {
        "id": "GfQTGQ5SWC53",
        "colab_type": "code",
        "colab": {}
      },
      "cell_type": "code",
      "source": [
        "y_test_rescale.shape"
      ],
      "execution_count": 0,
      "outputs": []
    },
    {
      "metadata": {
        "id": "U3nkO7vmMgeN",
        "colab_type": "code",
        "colab": {}
      },
      "cell_type": "code",
      "source": [
        "y_test_rescale"
      ],
      "execution_count": 0,
      "outputs": []
    },
    {
      "metadata": {
        "id": "n5kgwo36Mgsr",
        "colab_type": "code",
        "colab": {}
      },
      "cell_type": "code",
      "source": [
        "solar_test_rescale[num_time_steps+1:]"
      ],
      "execution_count": 0,
      "outputs": []
    },
    {
      "metadata": {
        "id": "hpSE1VMiPs-I",
        "colab_type": "code",
        "colab": {
          "base_uri": "https://localhost:8080/",
          "height": 297
        },
        "outputId": "383fe46e-6014-447c-be7a-e15b8314ae23"
      },
      "cell_type": "code",
      "source": [
        "plt.plot(y_train_rescale[-1300:-1100], label='train prediction 1 step ahead')\n",
        "plt.plot(solar_train_rescale[-1300:-1100], label='train true value')\n",
        "plt.legend()"
      ],
      "execution_count": 26,
      "outputs": [
        {
          "output_type": "execute_result",
          "data": {
            "text/plain": [
              "<matplotlib.legend.Legend at 0x7f2cbd9d9eb8>"
            ]
          },
          "metadata": {
            "tags": []
          },
          "execution_count": 26
        },
        {
          "output_type": "display_data",
          "data": {
            "image/png": "[encoded data removed]",
            "text/plain": [
              "<matplotlib.figure.Figure at 0x7f2cbd9a4fd0>"
            ]
          },
          "metadata": {
            "tags": []
          }
        }
      ]
    },
    {
      "metadata": {
        "id": "1H2IlVgRsosp",
        "colab_type": "code",
        "colab": {}
      },
      "cell_type": "code",
      "source": [
        "plt.plot(y_train_rescale[-1300:-1200], label='train prediction 1 step ahead')\n",
        "plt.plot(solar_train_rescale[-1300:-1200], label='train true value')\n",
        "plt.legend()"
      ],
      "execution_count": 0,
      "outputs": []
    },
    {
      "metadata": {
        "id": "ltMXJ-7BsuRA",
        "colab_type": "code",
        "colab": {}
      },
      "cell_type": "code",
      "source": [
        "plt.plot(y_train_rescale[-1300:-1250], label='train prediction 1 step ahead')\n",
        "plt.plot(solar_train_rescale[-1300:-1250], label='train true value')\n",
        "plt.legend()"
      ],
      "execution_count": 0,
      "outputs": []
    },
    {
      "metadata": {
        "id": "cYhU0kn9sxrM",
        "colab_type": "code",
        "colab": {}
      },
      "cell_type": "code",
      "source": [
        "plt.plot(y_train_rescale[-1250:-1200], label='train prediction 1 step ahead')\n",
        "plt.plot(solar_train_rescale[-1250:-1200], label='train true value')\n",
        "plt.legend()"
      ],
      "execution_count": 0,
      "outputs": []
    },
    {
      "metadata": {
        "id": "hMZ2KxkWs5qK",
        "colab_type": "code",
        "colab": {}
      },
      "cell_type": "code",
      "source": [
        "plt.plot(y_train_rescale[-1550:-1500], label='train prediction 1 step ahead')\n",
        "plt.plot(solar_train_rescale[-1550:-1500], label='train true value')\n",
        "plt.legend()"
      ],
      "execution_count": 0,
      "outputs": []
    },
    {
      "metadata": {
        "id": "_FlUuMBLs-eN",
        "colab_type": "code",
        "colab": {}
      },
      "cell_type": "code",
      "source": [
        ""
      ],
      "execution_count": 0,
      "outputs": []
    }
  ]
}